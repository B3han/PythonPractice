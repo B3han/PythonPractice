{
 "cells": [
  {
   "cell_type": "code",
   "execution_count": 10,
   "id": "42a073f6-59a1-4ca2-8bdc-fc0e39f1a841",
   "metadata": {},
   "outputs": [],
   "source": [
    "import os\n",
    "from bs4 import BeautifulSoup\n",
    "from playwright.async_api import async_playwright, TimeoutError as PlaywrightTimeout\n",
    "import time"
   ]
  },
  {
   "cell_type": "code",
   "execution_count": 7,
   "id": "360a46b5-fcf1-4e65-a1a6-303e243c5e5a",
   "metadata": {},
   "outputs": [],
   "source": [
    "SEASONS = list(range(2016, 2023))"
   ]
  },
  {
   "cell_type": "code",
   "execution_count": 15,
   "id": "e7931539-a467-4696-8326-2f9c29dfff16",
   "metadata": {},
   "outputs": [],
   "source": [
    "DATA_DIR = \"data\"\n",
    "STANDINGS_DIR = os.path.join(DATA_DIR, \"standings\")\n",
    "SCORES_DIR = os.path.join(DATA_DIR, \"scores\")"
   ]
  },
  {
   "cell_type": "code",
   "execution_count": 16,
   "id": "71e99ccc-1532-43a4-8e76-3175989deefb",
   "metadata": {},
   "outputs": [],
   "source": [
    "async def get_html(url, selector, sleep=5, retries=3):\n",
    "    html = None\n",
    "    for i in range(1, retries+1):\n",
    "        time.sleep(sleep*i)\n",
    "\n",
    "        try:\n",
    "            async with async_playwright() as p:\n",
    "                browser = await p.chromium.launch()\n",
    "                page = await browser.new_page()\n",
    "                await page.goto(url)\n",
    "                print(await page.title())\n",
    "                html = await page.inner_html(selector)\n",
    "        except PlaywrightTimeout:\n",
    "            print(f\"Timeout error on {url}\")\n",
    "            continue\n",
    "        else:\n",
    "            break\n",
    "    return html"
   ]
  },
  {
   "cell_type": "code",
   "execution_count": 27,
   "id": "e19860c6-d5a2-4b64-b372-3df532e336d0",
   "metadata": {},
   "outputs": [
    {
     "name": "stdout",
     "output_type": "stream",
     "text": [
      "Timeout error on https://basketball-reference.com/leagues/NBA_2016_games-october.html\n",
      "2015-16 NBA Schedule | Basketball-Reference.com\n",
      "2015-16 NBA Schedule | Basketball-Reference.com\n",
      "2015-16 NBA Schedule | Basketball-Reference.com\n",
      "2015-16 NBA Schedule | Basketball-Reference.com\n",
      "2015-16 NBA Schedule | Basketball-Reference.com\n",
      "2015-16 NBA Schedule | Basketball-Reference.com\n",
      "Timeout error on https://basketball-reference.com/leagues/NBA_2016_games-april.html\n",
      "2015-16 NBA Schedule | Basketball-Reference.com\n",
      "2015-16 NBA Schedule | Basketball-Reference.com\n",
      "Timeout error on https://basketball-reference.com/leagues/NBA_2016_games-june.html\n",
      "2015-16 NBA Schedule | Basketball-Reference.com\n"
     ]
    }
   ],
   "source": [
    "async def scrape_season(season):\n",
    "    url = f\"https://www.basketball-reference.com/leagues/NBA_{season}_games.html\"\n",
    "    html = await get_html(url, \"#content .filter\")\n",
    "\n",
    "    soup = BeautifulSoup(html)\n",
    "    links = soup.find_all(\"a\")\n",
    "    href = [l[\"href\"] for l in links]\n",
    "    standings_pages = [f\"https://basketball-reference.com{l}\" for l in href]\n",
    "\n",
    "for url in standings_pages:\n",
    "    save_path = os.path.join(STANDINGS_DIR, url.split(\"/\")[-1])\n",
    "    if os.path.exists(save_path):\n",
    "        continue\n",
    "\n",
    "    html = await get_html(url, \"#all_schedule\")\n",
    "    with open(save_path, \"w+\") as f:\n",
    "        f.write(html)"
   ]
  },
  {
   "cell_type": "code",
   "execution_count": null,
   "id": "7d28b0a1-fb10-410b-8db3-f00e2c14a86f",
   "metadata": {},
   "outputs": [],
   "source": [
    "for season in SEASONS:\n",
    "    await scrape_season(season)"
   ]
  },
  {
   "cell_type": "code",
   "execution_count": 33,
   "id": "dab1e77e-647b-4f39-830d-cc3c0bedf32a",
   "metadata": {},
   "outputs": [],
   "source": [
    "standings_files = os.listdir(STANDINGS_DIR)"
   ]
  },
  {
   "cell_type": "code",
   "execution_count": 34,
   "id": "88d7cd5c-17ed-4ed7-9c48-a419f5bd286b",
   "metadata": {},
   "outputs": [
    {
     "data": {
      "text/plain": [
       "['NBA_2016_games-april.html',\n",
       " 'NBA_2016_games-december.html',\n",
       " 'NBA_2016_games-february.html',\n",
       " 'NBA_2016_games-january.html',\n",
       " 'NBA_2016_games-june.html',\n",
       " 'NBA_2016_games-march.html',\n",
       " 'NBA_2016_games-may.html',\n",
       " 'NBA_2016_games-november.html',\n",
       " 'NBA_2016_games-october.html']"
      ]
     },
     "execution_count": 34,
     "metadata": {},
     "output_type": "execute_result"
    }
   ],
   "source": [
    "standings_files"
   ]
  },
  {
   "cell_type": "code",
   "execution_count": 35,
   "id": "62b43779-2e76-4369-ac20-bdd0bde97b3c",
   "metadata": {},
   "outputs": [],
   "source": [
    "standings_file = os.path.join(STANDINGS_DIR, standings_files[0])\n",
    "with open(standings_file, 'r') as f:\n",
    "    html = f.read()\n",
    "\n",
    "soup = BeautifulSoup(html)\n",
    "links = soup.find_all(\"a\")\n",
    "hrefs = [l.get(\"href\") for l in links]\n",
    "box_scores = [l for l in href if l and \"boxscore\" in l and \".html\" in l]"
   ]
  },
  {
   "cell_type": "code",
   "execution_count": 36,
   "id": "52d2ef49-383f-457f-b507-6bf1d89b629d",
   "metadata": {},
   "outputs": [
    {
     "data": {
      "text/plain": [
       "[]"
      ]
     },
     "execution_count": 36,
     "metadata": {},
     "output_type": "execute_result"
    }
   ],
   "source": [
    "box_scores"
   ]
  },
  {
   "cell_type": "code",
   "execution_count": null,
   "id": "88c6f053-6813-4ba8-9575-f37e18bfe476",
   "metadata": {},
   "outputs": [],
   "source": []
  }
 ],
 "metadata": {
  "kernelspec": {
   "display_name": "Python 3 (ipykernel)",
   "language": "python",
   "name": "python3"
  },
  "language_info": {
   "codemirror_mode": {
    "name": "ipython",
    "version": 3
   },
   "file_extension": ".py",
   "mimetype": "text/x-python",
   "name": "python",
   "nbconvert_exporter": "python",
   "pygments_lexer": "ipython3",
   "version": "3.12.1"
  }
 },
 "nbformat": 4,
 "nbformat_minor": 5
}
