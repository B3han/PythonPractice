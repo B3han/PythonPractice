{
 "cells": [
  {
   "cell_type": "code",
   "execution_count": 1,
   "id": "6859e491-db18-4af5-a06f-cc1a63b8f2e3",
   "metadata": {},
   "outputs": [],
   "source": [
    "expenses = [1200, 1400, 1700]"
   ]
  },
  {
   "cell_type": "code",
   "execution_count": 7,
   "id": "7e66a394-08a7-4d83-9dbb-5df0c485ded1",
   "metadata": {},
   "outputs": [],
   "source": [
    "point = (5,6,9,10,67)"
   ]
  },
  {
   "cell_type": "code",
   "execution_count": 9,
   "id": "71287f6f-e7f5-49d0-a562-9f520723db6b",
   "metadata": {},
   "outputs": [
    {
     "data": {
      "text/plain": [
       "6"
      ]
     },
     "execution_count": 9,
     "metadata": {},
     "output_type": "execute_result"
    }
   ],
   "source": [
    "point[1]"
   ]
  },
  {
   "cell_type": "code",
   "execution_count": 10,
   "id": "1ee1db00-1bd2-4a15-9af3-6e2d47a3afb7",
   "metadata": {},
   "outputs": [],
   "source": [
    "def find_pe_and_pb(price, eps, book_value):\n",
    "    pe = price/eps\n",
    "    pb = price/book_value\n",
    "    return pe, pb"
   ]
  },
  {
   "cell_type": "code",
   "execution_count": 11,
   "id": "61b97499-0fa2-4ca7-bf8d-104b7471de52",
   "metadata": {},
   "outputs": [],
   "source": [
    "pe_ratio, pb_ratio = find_pe_and_pb(100, 2, 4)"
   ]
  },
  {
   "cell_type": "code",
   "execution_count": 12,
   "id": "411f0655-257d-42bf-b284-8a2f3f816aff",
   "metadata": {},
   "outputs": [
    {
     "data": {
      "text/plain": [
       "50.0"
      ]
     },
     "execution_count": 12,
     "metadata": {},
     "output_type": "execute_result"
    }
   ],
   "source": [
    "pe_ratio"
   ]
  },
  {
   "cell_type": "code",
   "execution_count": 13,
   "id": "98152a85-dc19-4ffc-ac91-6bde5c8e2649",
   "metadata": {},
   "outputs": [
    {
     "data": {
      "text/plain": [
       "25.0"
      ]
     },
     "execution_count": 13,
     "metadata": {},
     "output_type": "execute_result"
    }
   ],
   "source": [
    "pb_ratio"
   ]
  },
  {
   "cell_type": "code",
   "execution_count": 14,
   "id": "c1690e6b-2530-4008-92d2-23e21e72bcf9",
   "metadata": {},
   "outputs": [],
   "source": [
    "contacts = [('rachel',5556667777), ('monica', 5558889999), ('joey', 5554446666)]"
   ]
  },
  {
   "cell_type": "code",
   "execution_count": 16,
   "id": "bfd712cc-0583-4a9e-bf18-91bfb98fcdbe",
   "metadata": {},
   "outputs": [
    {
     "name": "stdout",
     "output_type": "stream",
     "text": [
      "5554446666\n"
     ]
    }
   ],
   "source": [
    "for contact in contacts:\n",
    "    if contact[0] == 'joey':\n",
    "        print(contact[1])"
   ]
  },
  {
   "cell_type": "code",
   "execution_count": 18,
   "id": "88952909-626f-4156-a40c-0b341aaa7da5",
   "metadata": {},
   "outputs": [
    {
     "data": {
      "text/plain": [
       "{'rachel': 5556667777, 'monica': 5558889999, 'joey': 5554446666}"
      ]
     },
     "execution_count": 18,
     "metadata": {},
     "output_type": "execute_result"
    }
   ],
   "source": [
    "d = {\n",
    "    'rachel':5556667777,\n",
    "    'monica':5558889999,\n",
    "    'joey':5554446666\n",
    "}\n",
    "d"
   ]
  },
  {
   "cell_type": "code",
   "execution_count": 20,
   "id": "bbc4600f-743e-4057-b0df-744d3f1bce1b",
   "metadata": {},
   "outputs": [
    {
     "data": {
      "text/plain": [
       "5554446666"
      ]
     },
     "execution_count": 20,
     "metadata": {},
     "output_type": "execute_result"
    }
   ],
   "source": [
    "d['joey']"
   ]
  },
  {
   "cell_type": "code",
   "execution_count": 22,
   "id": "b6462082-5a34-4760-bb16-3f05db4287e9",
   "metadata": {},
   "outputs": [
    {
     "data": {
      "text/plain": [
       "5554446666"
      ]
     },
     "execution_count": 22,
     "metadata": {},
     "output_type": "execute_result"
    }
   ],
   "source": [
    "d.get('joey', 0)"
   ]
  },
  {
   "cell_type": "code",
   "execution_count": 28,
   "id": "51b44977-b632-4dbd-8bac-09ce22af6a53",
   "metadata": {},
   "outputs": [
    {
     "data": {
      "text/plain": [
       "1112223333"
      ]
     },
     "execution_count": 28,
     "metadata": {},
     "output_type": "execute_result"
    }
   ],
   "source": [
    "d['rachel']"
   ]
  },
  {
   "cell_type": "code",
   "execution_count": 29,
   "id": "c27f95ec-8528-4529-ab59-772f1a16be0e",
   "metadata": {},
   "outputs": [
    {
     "data": {
      "text/plain": [
       "{'rachel': 1112223333, 'monica': 5558889999, 'joey': 5554446666}"
      ]
     },
     "execution_count": 29,
     "metadata": {},
     "output_type": "execute_result"
    }
   ],
   "source": [
    "d"
   ]
  },
  {
   "cell_type": "code",
   "execution_count": 31,
   "id": "9264abbf-f50d-4d13-967e-0f25c69a984d",
   "metadata": {},
   "outputs": [
    {
     "data": {
      "text/plain": [
       "{'rachel': 1112223333,\n",
       " 'monica': 5558889999,\n",
       " 'joey': 5554446666,\n",
       " 'satya': 2223334444}"
      ]
     },
     "execution_count": 31,
     "metadata": {},
     "output_type": "execute_result"
    }
   ],
   "source": [
    "d['satya'] = 2223334444\n",
    "d"
   ]
  },
  {
   "cell_type": "code",
   "execution_count": 32,
   "id": "0f029cdf-4a1b-42d4-86b8-9a4315fc14dc",
   "metadata": {},
   "outputs": [
    {
     "data": {
      "text/plain": [
       "{'rachel': 1112223333, 'monica': 5558889999, 'joey': 5554446666}"
      ]
     },
     "execution_count": 32,
     "metadata": {},
     "output_type": "execute_result"
    }
   ],
   "source": [
    "del d['satya']\n",
    "d"
   ]
  },
  {
   "cell_type": "code",
   "execution_count": 33,
   "id": "da8862c5-29a9-4d94-83e7-9124425b0331",
   "metadata": {},
   "outputs": [
    {
     "data": {
      "text/plain": [
       "False"
      ]
     },
     "execution_count": 33,
     "metadata": {},
     "output_type": "execute_result"
    }
   ],
   "source": [
    "'addul' in d"
   ]
  },
  {
   "cell_type": "code",
   "execution_count": 34,
   "id": "1cf3329e-90a3-43b8-998d-2498395687fe",
   "metadata": {},
   "outputs": [
    {
     "data": {
      "text/plain": [
       "True"
      ]
     },
     "execution_count": 34,
     "metadata": {},
     "output_type": "execute_result"
    }
   ],
   "source": [
    "'rachel' in d"
   ]
  },
  {
   "cell_type": "code",
   "execution_count": 35,
   "id": "49b8b390-98cd-430f-8106-0a7b6bf5ebe2",
   "metadata": {},
   "outputs": [
    {
     "data": {
      "text/plain": [
       "{'rachel': 1112223333, 'monica': 5558889999, 'joey': 5554446666}"
      ]
     },
     "execution_count": 35,
     "metadata": {},
     "output_type": "execute_result"
    }
   ],
   "source": [
    "d"
   ]
  },
  {
   "cell_type": "code",
   "execution_count": 36,
   "id": "44b9d17c-b18f-4f2e-b80d-1921f27e355d",
   "metadata": {},
   "outputs": [],
   "source": [
    "d = {\n",
    "    'rachel' : {'phone': 1234, 'address': '1 blue street'},\n",
    "    'joey' : {'phone': 7890, 'address': '2 green street'}\n",
    "}"
   ]
  },
  {
   "cell_type": "code",
   "execution_count": 37,
   "id": "27b32f1c-7a91-4ac8-bf71-85fef96d4b86",
   "metadata": {},
   "outputs": [
    {
     "data": {
      "text/plain": [
       "'1 blue street'"
      ]
     },
     "execution_count": 37,
     "metadata": {},
     "output_type": "execute_result"
    }
   ],
   "source": [
    "d['rachel']['address']"
   ]
  },
  {
   "cell_type": "code",
   "execution_count": 38,
   "id": "1f7094b1-b918-4e0f-a090-22ccddc7f937",
   "metadata": {},
   "outputs": [
    {
     "data": {
      "text/plain": [
       "{'rachel': 5556667777, 'monica': 5558889999, 'joey': 5554446666}"
      ]
     },
     "execution_count": 38,
     "metadata": {},
     "output_type": "execute_result"
    }
   ],
   "source": [
    "d = {\n",
    "    'rachel':5556667777,\n",
    "    'monica':5558889999,\n",
    "    'joey':5554446666\n",
    "}\n",
    "d"
   ]
  },
  {
   "cell_type": "code",
   "execution_count": 40,
   "id": "2526861d-cec8-45af-8bd0-14d502184b7f",
   "metadata": {},
   "outputs": [
    {
     "name": "stdout",
     "output_type": "stream",
     "text": [
      "rachel 5556667777\n",
      "monica 5558889999\n",
      "joey 5554446666\n"
     ]
    }
   ],
   "source": [
    "for name in d:\n",
    "    print(name, d[name])"
   ]
  },
  {
   "cell_type": "code",
   "execution_count": 41,
   "id": "b48e61a5-a5cb-415e-8743-ad4d39e7c3e2",
   "metadata": {},
   "outputs": [
    {
     "name": "stdout",
     "output_type": "stream",
     "text": [
      "rachel 5556667777\n",
      "monica 5558889999\n",
      "joey 5554446666\n"
     ]
    }
   ],
   "source": [
    "for name, number in d.items():\n",
    "        print(name, number)"
   ]
  },
  {
   "cell_type": "code",
   "execution_count": 42,
   "id": "83ba3c1b-f826-44c4-b068-1063bd78c918",
   "metadata": {},
   "outputs": [
    {
     "data": {
      "text/plain": [
       "['__class__',\n",
       " '__class_getitem__',\n",
       " '__contains__',\n",
       " '__delattr__',\n",
       " '__delitem__',\n",
       " '__dir__',\n",
       " '__doc__',\n",
       " '__eq__',\n",
       " '__format__',\n",
       " '__ge__',\n",
       " '__getattribute__',\n",
       " '__getitem__',\n",
       " '__getstate__',\n",
       " '__gt__',\n",
       " '__hash__',\n",
       " '__init__',\n",
       " '__init_subclass__',\n",
       " '__ior__',\n",
       " '__iter__',\n",
       " '__le__',\n",
       " '__len__',\n",
       " '__lt__',\n",
       " '__ne__',\n",
       " '__new__',\n",
       " '__or__',\n",
       " '__reduce__',\n",
       " '__reduce_ex__',\n",
       " '__repr__',\n",
       " '__reversed__',\n",
       " '__ror__',\n",
       " '__setattr__',\n",
       " '__setitem__',\n",
       " '__sizeof__',\n",
       " '__str__',\n",
       " '__subclasshook__',\n",
       " 'clear',\n",
       " 'copy',\n",
       " 'fromkeys',\n",
       " 'get',\n",
       " 'items',\n",
       " 'keys',\n",
       " 'pop',\n",
       " 'popitem',\n",
       " 'setdefault',\n",
       " 'update',\n",
       " 'values']"
      ]
     },
     "execution_count": 42,
     "metadata": {},
     "output_type": "execute_result"
    }
   ],
   "source": [
    "dir(d)"
   ]
  },
  {
   "cell_type": "code",
   "execution_count": 43,
   "id": "e873e0b7-81ac-464b-8cc1-81edee3f126d",
   "metadata": {},
   "outputs": [
    {
     "data": {
      "text/plain": [
       "{'rachel': 5556667777, 'monica': 5558889999, 'joey': 5554446666}"
      ]
     },
     "execution_count": 43,
     "metadata": {},
     "output_type": "execute_result"
    }
   ],
   "source": [
    "d"
   ]
  },
  {
   "cell_type": "code",
   "execution_count": 44,
   "id": "cab915c2-4270-44ea-a9bb-d940c745062b",
   "metadata": {},
   "outputs": [
    {
     "data": {
      "text/plain": [
       "dict_keys(['rachel', 'monica', 'joey'])"
      ]
     },
     "execution_count": 44,
     "metadata": {},
     "output_type": "execute_result"
    }
   ],
   "source": [
    "d.keys()"
   ]
  },
  {
   "cell_type": "code",
   "execution_count": 45,
   "id": "70103d1a-bb0f-443e-985f-644d19d94cba",
   "metadata": {},
   "outputs": [
    {
     "data": {
      "text/plain": [
       "dict_values([5556667777, 5558889999, 5554446666])"
      ]
     },
     "execution_count": 45,
     "metadata": {},
     "output_type": "execute_result"
    }
   ],
   "source": [
    "d.values()"
   ]
  },
  {
   "cell_type": "code",
   "execution_count": null,
   "id": "77bf9410-23c5-4e7a-bfbe-14ec632c9afb",
   "metadata": {},
   "outputs": [],
   "source": []
  }
 ],
 "metadata": {
  "kernelspec": {
   "display_name": "Python 3 (ipykernel)",
   "language": "python",
   "name": "python3"
  },
  "language_info": {
   "codemirror_mode": {
    "name": "ipython",
    "version": 3
   },
   "file_extension": ".py",
   "mimetype": "text/x-python",
   "name": "python",
   "nbconvert_exporter": "python",
   "pygments_lexer": "ipython3",
   "version": "3.12.1"
  }
 },
 "nbformat": 4,
 "nbformat_minor": 5
}
